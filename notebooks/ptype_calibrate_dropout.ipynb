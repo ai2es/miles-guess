{
 "cells": [
  {
   "cell_type": "code",
   "execution_count": 68,
   "id": "1d1b694a-aaff-49d5-96c4-d511a5dfcd4f",
   "metadata": {},
   "outputs": [],
   "source": [
    "import warnings\n",
    "\n",
    "warnings.filterwarnings(\"ignore\")"
   ]
  },
  {
   "cell_type": "code",
   "execution_count": 90,
   "id": "2a2e9753-d10a-40d4-adc1-f85c765bd521",
   "metadata": {},
   "outputs": [],
   "source": [
    "import os\n",
    "import tqdm\n",
    "import yaml\n",
    "import pandas as pd\n",
    "import numpy as np\n",
    "\n",
    "from evml.keras.models import CategoricalDNN, locate_best_model\n",
    "from bridgescaler import load_scaler\n",
    "\n",
    "from evml.classifier_uq import brier_multi\n",
    "import tensorflow as tf\n",
    "from collections import defaultdict\n",
    "\n",
    "import matplotlib.pyplot as plt\n",
    "from evml.pit import pit_deviation_skill_score"
   ]
  },
  {
   "cell_type": "code",
   "execution_count": 2,
   "id": "d783c2c7-8edc-4368-b674-f5b68e4da56a",
   "metadata": {},
   "outputs": [],
   "source": [
    "fn_config = \"/glade/p/cisl/aiml/ai2es/winter_ptypes/models/classifier_weighted/model.yml\"\n",
    "\n",
    "#\"/glade/scratch/schreck/repos/evidential/results/ptype/weighted/classifier/best.yml\""
   ]
  },
  {
   "cell_type": "code",
   "execution_count": 3,
   "id": "169566aa-af1c-4339-83a8-fbe6858aefa1",
   "metadata": {},
   "outputs": [],
   "source": [
    "with open(fn_config) as cf:\n",
    "    conf = yaml.load(cf, Loader=yaml.FullLoader)"
   ]
  },
  {
   "cell_type": "code",
   "execution_count": 4,
   "id": "fc16126b-c6a2-43f0-9b4d-ae4c18fb4d2d",
   "metadata": {},
   "outputs": [],
   "source": [
    "input_features = (\n",
    "    conf[\"TEMP_C\"] + conf[\"T_DEWPOINT_C\"] + conf[\"UGRD_m/s\"] + conf[\"VGRD_m/s\"]\n",
    ")\n",
    "output_features = conf[\"ptypes\"]"
   ]
  },
  {
   "cell_type": "code",
   "execution_count": 5,
   "id": "80bd59e3-6525-4fbe-861c-4970bba39976",
   "metadata": {},
   "outputs": [
    {
     "name": "stderr",
     "output_type": "stream",
     "text": [
      "2023-06-23 14:14:47.152181: W tensorflow/compiler/xla/stream_executor/platform/default/dso_loader.cc:64] Could not load dynamic library 'libcudnn.so.8'; dlerror: libcudnn.so.8: cannot open shared object file: No such file or directory; LD_LIBRARY_PATH: /glade/u/apps/dav/opt/cuda/11.4.0/extras/CUPTI/lib64:/glade/u/apps/dav/opt/cuda/11.4.0/lib64:/glade/u/apps/dav/opt/openmpi/4.1.1/intel/19.1.1/lib:/glade/u/apps/dav/opt/ucx/1.11.0/lib:/glade/u/apps/opt/intel/2020u1/compilers_and_libraries/linux/lib/intel64:/glade/work/schreck/miniconda3/envs/evidential/lib/:/glade/work/schreck/miniconda3/envs/evidential/lib/python3.10/site-packages/nvidia/cudnn/lib\n",
      "2023-06-23 14:14:47.152222: W tensorflow/core/common_runtime/gpu/gpu_device.cc:1934] Cannot dlopen some GPU libraries. Please make sure the missing libraries mentioned above are installed properly if you would like to use GPU. Follow the guide at https://www.tensorflow.org/install/gpu for how to download and setup the required libraries for your platform.\n",
      "Skipping registering GPU devices...\n"
     ]
    }
   ],
   "source": [
    "model = CategoricalDNN.load_model(conf)"
   ]
  },
  {
   "cell_type": "code",
   "execution_count": 6,
   "id": "aa9b99e6-5df2-4851-9b39-004e3a7f81c6",
   "metadata": {},
   "outputs": [],
   "source": [
    "input_scaler_loc = os.path.join(conf[\"save_loc\"], \"scalers\", \"input.json\")\n",
    "\n",
    "input_scaler = load_scaler(input_scaler_loc)"
   ]
  },
  {
   "cell_type": "code",
   "execution_count": 7,
   "id": "2ee695be-725d-456d-8a22-95a6f4a4f5ee",
   "metadata": {},
   "outputs": [],
   "source": [
    "best_split = locate_best_model(conf[\"save_loc\"], conf[\"metric\"], conf[\"direction\"])"
   ]
  },
  {
   "cell_type": "code",
   "execution_count": 8,
   "id": "a9230bb7-a0ee-47a7-9b85-aae2d83b7a95",
   "metadata": {},
   "outputs": [],
   "source": [
    "test_data_loc = os.path.join(conf[\"save_loc\"], \"evaluate\", f\"test_{best_split}.parquet\")\n",
    "\n",
    "test_data = pd.read_parquet(test_data_loc)"
   ]
  },
  {
   "cell_type": "code",
   "execution_count": 9,
   "id": "e78d5336-8067-4c13-954f-08ab309bab81",
   "metadata": {},
   "outputs": [],
   "source": [
    "scaled_input_x = input_scaler.transform(test_data[input_features])"
   ]
  },
  {
   "cell_type": "code",
   "execution_count": 21,
   "id": "aa88afb4-12ed-4eab-a62c-2a4b4fd335b1",
   "metadata": {},
   "outputs": [],
   "source": [
    "y_true = test_data[output_features].values"
   ]
  },
  {
   "cell_type": "code",
   "execution_count": 10,
   "id": "2be59492-104c-4c07-bc84-ee32da2a04ad",
   "metadata": {},
   "outputs": [],
   "source": [
    "y_pred_test = model.predict(scaled_input_x)"
   ]
  },
  {
   "cell_type": "code",
   "execution_count": 12,
   "id": "5c08e610-3ef7-4fad-8420-6407aa7ac6ef",
   "metadata": {},
   "outputs": [],
   "source": [
    "brier_score = brier_multi(np.argmax(y_true, 1), y_pred_test)"
   ]
  },
  {
   "cell_type": "code",
   "execution_count": 13,
   "id": "696f2baa-cf4c-4f45-ab32-2fd3fd471e4f",
   "metadata": {},
   "outputs": [
    {
     "data": {
      "text/plain": [
       "0.6016400985561967"
      ]
     },
     "execution_count": 13,
     "metadata": {},
     "output_type": "execute_result"
    }
   ],
   "source": [
    "brier_score"
   ]
  },
  {
   "cell_type": "code",
   "execution_count": 38,
   "id": "f53ba4d3-4df9-43d1-a7d9-cd0298517afb",
   "metadata": {},
   "outputs": [],
   "source": [
    "def update_dropout(model, dropout = 0.1, input_shape = 84):\n",
    "    new_model = tf.keras.Sequential()\n",
    "    \n",
    "    for layer in model.model.layers:\n",
    "        if isinstance(layer, tf.keras.layers.Dropout):\n",
    "            new_model.add(tf.keras.layers.Dropout(rate=dropout))\n",
    "        else:\n",
    "            new_model.add(layer)\n",
    "    for i in range(len(new_model.layers)):\n",
    "        new_model.layers[i].set_weights(model.model.layers[i].get_weights())\n",
    "        \n",
    "    new_model.build((model.batch_size, input_shape))\n",
    "    new_model.compile(optimizer=model.optimizer_obj, loss=model.loss)\n",
    "    model.model = new_model\n",
    "    return model"
   ]
  },
  {
   "cell_type": "code",
   "execution_count": 39,
   "id": "bbea0253-fc45-4c81-9551-9d0e603fc3da",
   "metadata": {},
   "outputs": [],
   "source": [
    "model = update_dropout(model, 0.5)"
   ]
  },
  {
   "cell_type": "code",
   "execution_count": 41,
   "id": "631ee44e-535d-4181-9a1d-e516bc5dffe0",
   "metadata": {},
   "outputs": [
    {
     "name": "stderr",
     "output_type": "stream",
     "text": [
      "/glade/work/schreck/miniconda3/envs/evidential/lib/python3.8/site-packages/evml/keras/models.py:908: RuntimeWarning: divide by zero encountered in log\n",
      "  pred_probs * np.log(pred_probs + epsilon), axis=-1\n",
      "/glade/work/schreck/miniconda3/envs/evidential/lib/python3.8/site-packages/evml/keras/models.py:908: RuntimeWarning: invalid value encountered in multiply\n",
      "  pred_probs * np.log(pred_probs + epsilon), axis=-1\n",
      "/glade/work/schreck/miniconda3/envs/evidential/lib/python3.8/site-packages/evml/keras/models.py:912: RuntimeWarning: divide by zero encountered in log\n",
      "  np.sum(-y_prob * np.log(y_prob + epsilon), axis=-1), axis=0\n",
      "/glade/work/schreck/miniconda3/envs/evidential/lib/python3.8/site-packages/evml/keras/models.py:912: RuntimeWarning: invalid value encountered in multiply\n",
      "  np.sum(-y_prob * np.log(y_prob + epsilon), axis=-1), axis=0\n"
     ]
    }
   ],
   "source": [
    "pred_probs, aleatoric, epistemic, entropy, mutual_info = model.predict_monte_carlo(scaled_input_x)"
   ]
  },
  {
   "cell_type": "code",
   "execution_count": 42,
   "id": "1f4e82b6-f919-4dfb-9761-2f3e628362e6",
   "metadata": {},
   "outputs": [
    {
     "data": {
      "text/plain": [
       "0.5950503858633889"
      ]
     },
     "execution_count": 42,
     "metadata": {},
     "output_type": "execute_result"
    }
   ],
   "source": [
    "brier_multi(np.argmax(y_true, 1), pred_probs)"
   ]
  },
  {
   "cell_type": "code",
   "execution_count": 85,
   "id": "e09081b7-b777-409f-b561-d2b5dfe2514b",
   "metadata": {},
   "outputs": [],
   "source": [
    "def drop_fraction_offset(test_data, uq_column, plot = False, num_classes = 4, num_bins = 10):\n",
    "    df = test_data.copy()\n",
    "    total = []\n",
    "    for class_label in range(num_classes):\n",
    "        df = df.sort_values(uq_column)\n",
    "        dr = df[df[\"pred_label\"] == class_label].copy()\n",
    "        results = defaultdict(list)\n",
    "        percentage = np.linspace(0, 1, dr.shape[0])\n",
    "        for percent in np.linspace(5, 100, num_bins):\n",
    "            c = percentage < percent / 100.0\n",
    "            if c.sum() == 0:\n",
    "                continue\n",
    "            acc = (dr[c][\"true_label\"] == dr[c][\"pred_label\"]).mean()\n",
    "            bss = brier_multi(\n",
    "                dr[c][\"true_label\"].values,\n",
    "                dr[c][[f\"pred_conf{k+1}\" for k in range(num_classes)]].values,\n",
    "            )\n",
    "            results[\"acc\"].append(acc)\n",
    "            results[\"bss\"].append(bss)\n",
    "            results[\"frac\"].append(100-percent)\n",
    "            # The best we can do is 1.0, add up the differences across the bins\n",
    "            total.append(np.mean([1 - x for x in results[\"bss\"]]))\n",
    "            \n",
    "        if plot:\n",
    "            plt.plot(results[\"frac\"], results[\"bss\"])\n",
    "    \n",
    "    if plot:\n",
    "        plt.tight_layout()\n",
    "        plt.show()\n",
    "    else:\n",
    "        return np.mean(total)"
   ]
  },
  {
   "cell_type": "code",
   "execution_count": null,
   "id": "03272f6d-5349-435c-82e7-f327e580822b",
   "metadata": {},
   "outputs": [
    {
     "name": "stderr",
     "output_type": "stream",
     "text": [
      " 10%|█         | 10/100 [04:27<40:49, 27.22s/it]"
     ]
    }
   ],
   "source": [
    "dropouts = np.arange(0, 1, 0.01) #[0.0, 0.1, 0.2, 0.3, 0.4, 0.5, 0.6, 0.7, 0.8, 0.9, 0.99]\n",
    "\n",
    "scores = []\n",
    "for dr in tqdm.tqdm(dropouts, total = len(dropouts)):\n",
    "    model = update_dropout(model, dropout = dr)\n",
    "    pred_probs, aleatoric, epistemic, entropy, mutual_info = model.predict_monte_carlo(scaled_input_x)\n",
    "    test_data[[f\"pred_conf{k+1}\" for k in range(4)]] = pred_probs\n",
    "    test_data[[f\"ale{k+1}\" for k in range(4)]] = aleatoric\n",
    "    test_data[[f\"epi{k+1}\" for k in range(4)]] = epistemic\n",
    "    test_data[\"entropy\"] = entropy\n",
    "    skill = drop_fraction_offset(test_data, \"entropy\")\n",
    "    #print(dr, skill)\n",
    "    scores.append(skill)"
   ]
  },
  {
   "cell_type": "code",
   "execution_count": 87,
   "id": "c27ca1c3-b0c9-4258-9cce-7f034bc149fd",
   "metadata": {},
   "outputs": [
    {
     "data": {
      "image/png": "[encoded data removed]",
      "text/plain": [
       "<Figure size 640x480 with 1 Axes>"
      ]
     },
     "metadata": {},
     "output_type": "display_data"
    }
   ],
   "source": [
    "model = update_dropout(model, dropout = 0.2)\n",
    "pred_probs, aleatoric, epistemic, entropy, mutual_info = model.predict_monte_carlo(scaled_input_x)\n",
    "skill = drop_fraction_offset(test_data, \"entropy\", plot = True)"
   ]
  },
  {
   "cell_type": "code",
   "execution_count": 82,
   "id": "4312a6ca-2679-4f7b-976b-d745967eba7a",
   "metadata": {},
   "outputs": [
    {
     "data": {
      "image/png": "[encoded data removed]",
      "text/plain": [
       "<Figure size 640x480 with 1 Axes>"
      ]
     },
     "metadata": {},
     "output_type": "display_data"
    }
   ],
   "source": [
    "model = update_dropout(model, dropout = 0.7)\n",
    "pred_probs, aleatoric, epistemic, entropy, mutual_info = model.predict_monte_carlo(scaled_input_x)\n",
    "skill = drop_fraction_offset(test_data, \"entropy\", plot = True)"
   ]
  },
  {
   "cell_type": "code",
   "execution_count": null,
   "id": "d501055a-6f68-4f26-a378-813b1758b650",
   "metadata": {},
   "outputs": [],
   "source": []
  }
 ],
 "metadata": {
  "kernelspec": {
   "display_name": "Python [conda env:miniconda3-evidential]",
   "language": "python",
   "name": "conda-env-miniconda3-evidential-py"
  },
  "language_info": {
   "codemirror_mode": {
    "name": "ipython",
    "version": 3
   },
   "file_extension": ".py",
   "mimetype": "text/x-python",
   "name": "python",
   "nbconvert_exporter": "python",
   "pygments_lexer": "ipython3",
   "version": "3.8.16"
  }
 },
 "nbformat": 4,
 "nbformat_minor": 5
}
