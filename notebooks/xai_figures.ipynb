{
 "cells": [
  {
   "cell_type": "code",
   "execution_count": 66,
   "id": "5b651a16-ddf2-4681-9415-4e6aeaf71144",
   "metadata": {},
   "outputs": [],
   "source": [
    "import os\n",
    "import yaml\n",
    "import pandas as pd\n",
    "import numpy as np\n",
    "\n",
    "from evml.keras.models import CategoricalDNN\n",
    "from bridgescaler import load_scaler\n",
    "\n",
    "from evml.classifier_uq import brier_multi\n",
    "import tensorflow as tf\n",
    "from collections import defaultdict\n",
    "\n",
    "import matplotlib.pyplot as plt"
   ]
  },
  {
   "cell_type": "code",
   "execution_count": 2,
   "id": "d2bab2b3-2040-4669-872d-ebec38de08b3",
   "metadata": {},
   "outputs": [],
   "source": [
    "fn_config = \"/glade/p/cisl/aiml/ai2es/winter_ptypes/models/classifier_weighted/model.yml\"\n",
    "\n",
    "#\"/glade/scratch/schreck/repos/evidential/results/ptype/weighted/classifier/best.yml\""
   ]
  },
  {
   "cell_type": "code",
   "execution_count": 3,
   "id": "66580820-1c55-472e-a036-6c1419935ce1",
   "metadata": {},
   "outputs": [],
   "source": [
    "with open(fn_config) as cf:\n",
    "    conf = yaml.load(cf, Loader=yaml.FullLoader)"
   ]
  },
  {
   "cell_type": "code",
   "execution_count": 24,
   "id": "3fc1a90a-3769-42d8-a0c2-87a128f2e8af",
   "metadata": {},
   "outputs": [],
   "source": [
    "input_features = (\n",
    "    conf[\"TEMP_C\"] + conf[\"T_DEWPOINT_C\"] + conf[\"UGRD_m/s\"] + conf[\"VGRD_m/s\"]\n",
    ")\n",
    "output_features = conf[\"ptypes\"]"
   ]
  },
  {
   "cell_type": "markdown",
   "id": "15c9984e-8949-4e34-9fa5-93d873216668",
   "metadata": {},
   "source": [
    "### Load a pre-trained model "
   ]
  },
  {
   "cell_type": "code",
   "execution_count": 4,
   "id": "c121cd7b-e5a7-47f1-a3b4-ad7d60629fbd",
   "metadata": {},
   "outputs": [
    {
     "name": "stderr",
     "output_type": "stream",
     "text": [
      "2023-06-23 08:50:53.277514: W tensorflow/compiler/xla/stream_executor/platform/default/dso_loader.cc:64] Could not load dynamic library 'libcudnn.so.8'; dlerror: libcudnn.so.8: cannot open shared object file: No such file or directory; LD_LIBRARY_PATH: /glade/u/apps/dav/opt/cuda/11.4.0/extras/CUPTI/lib64:/glade/u/apps/dav/opt/cuda/11.4.0/lib64:/glade/u/apps/dav/opt/openmpi/4.1.1/intel/19.1.1/lib:/glade/u/apps/dav/opt/ucx/1.11.0/lib:/glade/u/apps/opt/intel/2020u1/compilers_and_libraries/linux/lib/intel64:/glade/work/schreck/miniconda3/envs/evidential/lib/:/glade/work/schreck/miniconda3/envs/evidential/lib/python3.10/site-packages/nvidia/cudnn/lib\n",
      "2023-06-23 08:50:53.277551: W tensorflow/core/common_runtime/gpu/gpu_device.cc:1934] Cannot dlopen some GPU libraries. Please make sure the missing libraries mentioned above are installed properly if you would like to use GPU. Follow the guide at https://www.tensorflow.org/install/gpu for how to download and setup the required libraries for your platform.\n",
      "Skipping registering GPU devices...\n"
     ]
    }
   ],
   "source": [
    "model = CategoricalDNN.load_model(conf)"
   ]
  },
  {
   "cell_type": "code",
   "execution_count": 5,
   "id": "5a5ebf38-b204-4dd2-8cd7-a69e53ae0cbf",
   "metadata": {},
   "outputs": [
    {
     "name": "stdout",
     "output_type": "stream",
     "text": [
      "Model: \"sequential\"\n",
      "_________________________________________________________________\n",
      " Layer (type)                Output Shape              Param #   \n",
      "=================================================================\n",
      " dense_input (Dense)         (3097, 84)                7140      \n",
      "                                                                 \n",
      " dense_00 (Dense)            (3097, 200)               17000     \n",
      "                                                                 \n",
      " dropout_00 (Dropout)        (3097, 200)               0         \n",
      "                                                                 \n",
      " dense_01 (Dense)            (3097, 200)               40200     \n",
      "                                                                 \n",
      " dropout_01 (Dropout)        (3097, 200)               0         \n",
      "                                                                 \n",
      " dense_02 (Dense)            (3097, 200)               40200     \n",
      "                                                                 \n",
      " dropout_02 (Dropout)        (3097, 200)               0         \n",
      "                                                                 \n",
      " dense_output (Dense)        (3097, 4)                 804       \n",
      "                                                                 \n",
      "=================================================================\n",
      "Total params: 105,344\n",
      "Trainable params: 105,344\n",
      "Non-trainable params: 0\n",
      "_________________________________________________________________\n"
     ]
    }
   ],
   "source": [
    "model.model.summary()"
   ]
  },
  {
   "cell_type": "markdown",
   "id": "a67a9ea8-2b7c-4a44-9820-9a91b35a03cd",
   "metadata": {},
   "source": [
    "### Load the data pre-processing objects"
   ]
  },
  {
   "cell_type": "code",
   "execution_count": 12,
   "id": "13327625-b51d-4aa6-b109-3f3b8fbb7087",
   "metadata": {},
   "outputs": [],
   "source": [
    "input_scaler_loc = os.path.join(conf[\"save_loc\"], \"scalers\", \"input.json\")\n",
    "\n",
    "input_scaler = load_scaler(input_scaler_loc)"
   ]
  },
  {
   "cell_type": "markdown",
   "id": "4e05fab5-5456-44d1-bb03-c45aafbab68f",
   "metadata": {},
   "source": [
    "### Load test data split"
   ]
  },
  {
   "cell_type": "markdown",
   "id": "a3442780-4e17-43c8-94ca-103348d251e2",
   "metadata": {},
   "source": [
    "##### Which model was the best one, out of 20-member ensemble?"
   ]
  },
  {
   "cell_type": "code",
   "execution_count": 19,
   "id": "073b890e-825e-4ae7-b60a-584187720b9c",
   "metadata": {},
   "outputs": [],
   "source": [
    "import sys\n",
    "sys.path.append(\"../applications/\")\n",
    "from evaluate_ptype import locate_best_model"
   ]
  },
  {
   "cell_type": "code",
   "execution_count": 21,
   "id": "bf7cda97-69a4-4348-a295-97f6e8c18863",
   "metadata": {},
   "outputs": [],
   "source": [
    "best_split = locate_best_model(conf[\"save_loc\"], conf[\"metric\"], conf[\"direction\"])"
   ]
  },
  {
   "cell_type": "code",
   "execution_count": 22,
   "id": "ac5bbd46-c191-4f72-a659-eef11c528147",
   "metadata": {},
   "outputs": [
    {
     "data": {
      "text/plain": [
       "1"
      ]
     },
     "execution_count": 22,
     "metadata": {},
     "output_type": "execute_result"
    }
   ],
   "source": [
    "best_split"
   ]
  },
  {
   "cell_type": "code",
   "execution_count": 23,
   "id": "52dba7e5-41af-4764-96a5-1200d99040fe",
   "metadata": {},
   "outputs": [],
   "source": [
    "test_data_loc = os.path.join(conf[\"save_loc\"], \"evaluate\", f\"test_{best_split}.parquet\")\n",
    "\n",
    "test_data = pd.read_parquet(test_data_loc)"
   ]
  },
  {
   "cell_type": "code",
   "execution_count": 30,
   "id": "f08ebe77-f53b-49d1-ac49-a6552b4a9835",
   "metadata": {},
   "outputs": [],
   "source": [
    "y_true = test_data[output_features].values"
   ]
  },
  {
   "cell_type": "markdown",
   "id": "67118169-e9c9-4ace-a2c7-521ed675e20d",
   "metadata": {},
   "source": [
    "##### Predict with the model"
   ]
  },
  {
   "cell_type": "code",
   "execution_count": 43,
   "id": "a220876c-11a9-45dc-9441-2eb0d93e49b0",
   "metadata": {},
   "outputs": [],
   "source": [
    "scaled_input_x = input_scaler.transform(test_data[input_features])"
   ]
  },
  {
   "cell_type": "code",
   "execution_count": 27,
   "id": "98d577ff-d5ac-46be-8fc7-6f3b8391bd35",
   "metadata": {},
   "outputs": [],
   "source": [
    "y_pred_test = model.predict(scaled_input_x)"
   ]
  },
  {
   "cell_type": "code",
   "execution_count": 37,
   "id": "41d3c617-5d70-46e6-8631-a92beb589791",
   "metadata": {},
   "outputs": [],
   "source": [
    "brier_score = brier_multi(np.argmax(y_true, 1), y_pred_test)"
   ]
  },
  {
   "cell_type": "code",
   "execution_count": 38,
   "id": "3c7d3197-7536-45c9-9290-5617000b37cc",
   "metadata": {},
   "outputs": [
    {
     "data": {
      "text/plain": [
       "0.6016400985561967"
      ]
     },
     "execution_count": 38,
     "metadata": {},
     "output_type": "execute_result"
    }
   ],
   "source": [
    "brier_score"
   ]
  },
  {
   "cell_type": "markdown",
   "id": "c2fb9177-1efa-48e3-ad7a-cb78c91565b4",
   "metadata": {},
   "source": [
    "### Calculate the input * gradient"
   ]
  },
  {
   "cell_type": "code",
   "execution_count": 55,
   "id": "c2f1f5fe-fd23-4a0c-b2be-282ba9942dcd",
   "metadata": {},
   "outputs": [],
   "source": [
    "# Convert the input sample to a TensorFlow tensor\n",
    "input_tensor = tf.convert_to_tensor(scaled_input_x)\n",
    "\n",
    "# Open a gradient tape to track the operations\n",
    "with tf.GradientTape() as tape:\n",
    "    tape.watch(input_tensor)\n",
    "    # Forward pass through the model\n",
    "    output = model.model(input_tensor)\n",
    "\n",
    "# Compute the gradients of the output with respect to the input\n",
    "gradients = tape.gradient(output, input_tensor)\n",
    "\n",
    "# Compute the XAI quantity: gradient * inputs\n",
    "xai_quantity = gradients * input_tensor\n",
    "\n",
    "xai_quantity = xai_quantity.numpy()"
   ]
  },
  {
   "cell_type": "code",
   "execution_count": 64,
   "id": "667e853a-2ce5-4334-91bf-88777203060e",
   "metadata": {},
   "outputs": [
    {
     "name": "stdout",
     "output_type": "stream",
     "text": [
      "TEMP_C_0_m: 273677\n",
      "TEMP_C_3000_m: 14942\n",
      "T_DEWPOINT_C_0_m: 12173\n",
      "TEMP_C_2500_m: 8368\n",
      "VGRD_m/s_3000_m: 4451\n",
      "T_DEWPOINT_C_2500_m: 4322\n",
      "T_DEWPOINT_C_250_m: 4292\n",
      "TEMP_C_4250_m: 4282\n",
      "T_DEWPOINT_C_1250_m: 3716\n",
      "UGRD_m/s_2250_m: 3477\n",
      "TEMP_C_500_m: 3447\n",
      "UGRD_m/s_1000_m: 3160\n",
      "VGRD_m/s_750_m: 3158\n",
      "UGRD_m/s_1500_m: 2997\n",
      "UGRD_m/s_2500_m: 2906\n",
      "UGRD_m/s_3500_m: 2574\n",
      "VGRD_m/s_4500_m: 2461\n",
      "UGRD_m/s_500_m: 2283\n",
      "UGRD_m/s_1250_m: 2235\n",
      "UGRD_m/s_2000_m: 1998\n",
      "T_DEWPOINT_C_1000_m: 1883\n",
      "UGRD_m/s_5000_m: 1793\n",
      "VGRD_m/s_4750_m: 1722\n",
      "VGRD_m/s_4250_m: 1622\n",
      "TEMP_C_750_m: 1565\n",
      "TEMP_C_2250_m: 1441\n",
      "T_DEWPOINT_C_3500_m: 1334\n",
      "UGRD_m/s_750_m: 1261\n",
      "UGRD_m/s_3750_m: 1259\n",
      "VGRD_m/s_2000_m: 1214\n",
      "UGRD_m/s_250_m: 1177\n",
      "VGRD_m/s_500_m: 1156\n",
      "TEMP_C_250_m: 1126\n",
      "VGRD_m/s_4000_m: 987\n",
      "UGRD_m/s_4000_m: 981\n",
      "UGRD_m/s_4250_m: 928\n",
      "VGRD_m/s_3750_m: 914\n",
      "VGRD_m/s_1250_m: 768\n",
      "VGRD_m/s_0_m: 709\n",
      "UGRD_m/s_0_m: 689\n",
      "T_DEWPOINT_C_4250_m: 681\n",
      "UGRD_m/s_2750_m: 668\n",
      "T_DEWPOINT_C_750_m: 642\n",
      "VGRD_m/s_2750_m: 626\n",
      "UGRD_m/s_4500_m: 604\n",
      "TEMP_C_3750_m: 579\n",
      "UGRD_m/s_4750_m: 578\n",
      "VGRD_m/s_2500_m: 562\n",
      "VGRD_m/s_3250_m: 526\n",
      "T_DEWPOINT_C_3750_m: 458\n",
      "VGRD_m/s_250_m: 384\n",
      "TEMP_C_5000_m: 353\n",
      "T_DEWPOINT_C_4500_m: 344\n",
      "TEMP_C_1000_m: 337\n",
      "TEMP_C_1250_m: 320\n",
      "T_DEWPOINT_C_5000_m: 272\n",
      "T_DEWPOINT_C_3000_m: 241\n",
      "VGRD_m/s_1000_m: 238\n",
      "T_DEWPOINT_C_1750_m: 231\n",
      "T_DEWPOINT_C_2750_m: 214\n",
      "VGRD_m/s_5000_m: 207\n",
      "VGRD_m/s_2250_m: 171\n",
      "T_DEWPOINT_C_3250_m: 170\n",
      "T_DEWPOINT_C_2250_m: 170\n",
      "VGRD_m/s_1500_m: 148\n",
      "UGRD_m/s_3000_m: 144\n",
      "VGRD_m/s_3500_m: 138\n",
      "T_DEWPOINT_C_4000_m: 138\n",
      "TEMP_C_1750_m: 136\n",
      "UGRD_m/s_1750_m: 128\n",
      "UGRD_m/s_3250_m: 127\n",
      "T_DEWPOINT_C_2000_m: 112\n",
      "T_DEWPOINT_C_500_m: 111\n",
      "T_DEWPOINT_C_4750_m: 110\n",
      "TEMP_C_4500_m: 74\n",
      "TEMP_C_4000_m: 71\n",
      "TEMP_C_2000_m: 65\n",
      "T_DEWPOINT_C_1500_m: 55\n",
      "TEMP_C_1500_m: 33\n",
      "TEMP_C_3500_m: 31\n",
      "TEMP_C_4750_m: 23\n",
      "VGRD_m/s_1750_m: 18\n",
      "TEMP_C_2750_m: 8\n",
      "TEMP_C_3250_m: 2\n"
     ]
    }
   ],
   "source": [
    "unique_elements, counts = np.unique(np.argmax(xai_quantity, 1), return_counts=True)\n",
    "\n",
    "# Sort the unique elements by count in descending order\n",
    "sorted_indices = np.argsort(-counts)\n",
    "sorted_elements = unique_elements[sorted_indices]\n",
    "sorted_counts = counts[sorted_indices]\n",
    "\n",
    "# Print the sorted unique elements and their counts\n",
    "results = {} #defaultdict(list)\n",
    "for element, count in zip(sorted_elements, sorted_counts):\n",
    "    print(f\"{input_features[element]}: {count}\")\n",
    "    results[input_features[element]] = count"
   ]
  },
  {
   "cell_type": "code",
   "execution_count": 93,
   "id": "9d5bfb69-7847-4f91-be96-cc70eaf073cf",
   "metadata": {},
   "outputs": [
    {
     "data": {
      "image/png": "[encoded data removed]",
      "text/plain": [
       "<Figure size 1000x400 with 4 Axes>"
      ]
     },
     "metadata": {},
     "output_type": "display_data"
    }
   ],
   "source": [
    "fig, axs = plt.subplots(1, 4, figsize=(10, 4), sharey=\"row\")\n",
    "\n",
    "titles = [\"TEMP_C\", \"T_DEWPOINT_C\", \"UGRD_m/s\", \"VGRD_m/s\"]\n",
    "\n",
    "for k, var in enumerate([conf[\"TEMP_C\"], conf[\"T_DEWPOINT_C\"], conf[\"UGRD_m/s\"], conf[\"VGRD_m/s\"]]):\n",
    "    ydata = np.array([results[k] for k in var])\n",
    "    axs[k].plot(var, ydata / sum(ydata))\n",
    "    _var = [x.split(\"_\")[-2] for x in var]\n",
    "    _ = axs[k].set_xticks(var, _var, rotation=90, fontsize = 8)\n",
    "    axs[k].set_yscale(\"log\")\n",
    "    axs[k].set_title(titles[k], fontsize = 10)\n",
    "\n",
    "    axs[k].set_xlabel(\"Height above ground (m)\")\n",
    "axs[0].set_ylabel(\"Probability of being top-1 feature\")\n",
    "    \n",
    "plt.tight_layout()"
   ]
  },
  {
   "cell_type": "code",
   "execution_count": null,
   "id": "797708f4-951f-4a75-a838-e75b14dadef3",
   "metadata": {},
   "outputs": [],
   "source": []
  }
 ],
 "metadata": {
  "kernelspec": {
   "display_name": "Python [conda env:miniconda3-evidential]",
   "language": "python",
   "name": "conda-env-miniconda3-evidential-py"
  },
  "language_info": {
   "codemirror_mode": {
    "name": "ipython",
    "version": 3
   },
   "file_extension": ".py",
   "mimetype": "text/x-python",
   "name": "python",
   "nbconvert_exporter": "python",
   "pygments_lexer": "ipython3",
   "version": "3.8.16"
  }
 },
 "nbformat": 4,
 "nbformat_minor": 5
}
